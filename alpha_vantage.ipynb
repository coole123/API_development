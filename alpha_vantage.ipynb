{
 "cells": [
  {
   "cell_type": "markdown",
   "metadata": {},
   "source": [
    "# Alpha Vantage API Exploration\n",
    "\n",
    "This notebook contains exploration of the Alpha Vantage API.\n",
    "\n",
    "[API Documentation](https://www.alphavantage.co/documentation)\n",
    "\n",
    "[Python Wrapper](https://github.com/RomelTorres/alpha_vantage)"
   ]
  },
  {
   "cell_type": "code",
   "execution_count": 59,
   "metadata": {},
   "outputs": [
    {
     "name": "stdout",
     "output_type": "stream",
     "text": [
      "Requirement already satisfied: alpha_vantage in /Users/azel/anaconda3/lib/python3.7/site-packages (2.1.0)\n",
      "Requirement already satisfied: requests in /Users/azel/anaconda3/lib/python3.7/site-packages (from alpha_vantage) (2.22.0)\n",
      "Requirement already satisfied: idna<2.9,>=2.5 in /Users/azel/anaconda3/lib/python3.7/site-packages (from requests->alpha_vantage) (2.8)\n",
      "Requirement already satisfied: certifi>=2017.4.17 in /Users/azel/anaconda3/lib/python3.7/site-packages (from requests->alpha_vantage) (2019.6.16)\n",
      "Requirement already satisfied: chardet<3.1.0,>=3.0.2 in /Users/azel/anaconda3/lib/python3.7/site-packages (from requests->alpha_vantage) (3.0.4)\n",
      "Requirement already satisfied: urllib3!=1.25.0,!=1.25.1,<1.26,>=1.21.1 in /Users/azel/anaconda3/lib/python3.7/site-packages (from requests->alpha_vantage) (1.24.2)\n"
     ]
    }
   ],
   "source": [
    "!pip install alpha_vantage"
   ]
  },
  {
   "cell_type": "code",
   "execution_count": 9,
   "metadata": {},
   "outputs": [
    {
     "data": {
      "image/png": "[encoded data removed]",
      "text/plain": [
       "<Figure size 432x288 with 1 Axes>"
      ]
     },
     "metadata": {
      "needs_background": "light"
     },
     "output_type": "display_data"
    }
   ],
   "source": [
    "from alpha_vantage.timeseries import TimeSeries\n",
    "from decouple import config\n",
    "import matplotlib.pyplot as plt\n",
    "import pandas as pd\n",
    "\n",
    "ts = TimeSeries(key=config('ALPHA_VANTAGE'), output_format='pandas')\n",
    "data, meta_data = ts.get_intraday(symbol='AAPL',interval='1min', outputsize='full')\n",
    "data['4. close'].plot()\n",
    "plt.title('Intraday Times Series for the AAPL stock (1 min)')\n",
    "plt.show()"
   ]
  },
  {
   "cell_type": "code",
   "execution_count": 13,
   "metadata": {},
   "outputs": [
    {
     "data": {
      "text/html": [
       "<div>\n",
       "<style scoped>\n",
       "    .dataframe tbody tr th:only-of-type {\n",
       "        vertical-align: middle;\n",
       "    }\n",
       "\n",
       "    .dataframe tbody tr th {\n",
       "        vertical-align: top;\n",
       "    }\n",
       "\n",
       "    .dataframe thead th {\n",
       "        text-align: right;\n",
       "    }\n",
       "</style>\n",
       "<table border=\"1\" class=\"dataframe\">\n",
       "  <thead>\n",
       "    <tr style=\"text-align: right;\">\n",
       "      <th></th>\n",
       "      <th>1. open</th>\n",
       "      <th>2. high</th>\n",
       "      <th>3. low</th>\n",
       "      <th>4. close</th>\n",
       "      <th>5. volume</th>\n",
       "    </tr>\n",
       "    <tr>\n",
       "      <th>date</th>\n",
       "      <th></th>\n",
       "      <th></th>\n",
       "      <th></th>\n",
       "      <th></th>\n",
       "      <th></th>\n",
       "    </tr>\n",
       "  </thead>\n",
       "  <tbody>\n",
       "    <tr>\n",
       "      <th>2019-08-05 09:31:00</th>\n",
       "      <td>197.99</td>\n",
       "      <td>198.000</td>\n",
       "      <td>196.7500</td>\n",
       "      <td>197.7100</td>\n",
       "      <td>2126171.0</td>\n",
       "    </tr>\n",
       "    <tr>\n",
       "      <th>2019-08-05 09:32:00</th>\n",
       "      <td>197.71</td>\n",
       "      <td>198.400</td>\n",
       "      <td>197.4521</td>\n",
       "      <td>197.8449</td>\n",
       "      <td>321724.0</td>\n",
       "    </tr>\n",
       "    <tr>\n",
       "      <th>2019-08-05 09:33:00</th>\n",
       "      <td>197.89</td>\n",
       "      <td>198.260</td>\n",
       "      <td>197.6900</td>\n",
       "      <td>198.1300</td>\n",
       "      <td>254311.0</td>\n",
       "    </tr>\n",
       "    <tr>\n",
       "      <th>2019-08-05 09:34:00</th>\n",
       "      <td>198.13</td>\n",
       "      <td>198.649</td>\n",
       "      <td>197.8400</td>\n",
       "      <td>198.3394</td>\n",
       "      <td>292661.0</td>\n",
       "    </tr>\n",
       "    <tr>\n",
       "      <th>2019-08-05 09:35:00</th>\n",
       "      <td>198.36</td>\n",
       "      <td>198.430</td>\n",
       "      <td>198.0200</td>\n",
       "      <td>198.0200</td>\n",
       "      <td>193629.0</td>\n",
       "    </tr>\n",
       "  </tbody>\n",
       "</table>\n",
       "</div>"
      ],
      "text/plain": [
       "                     1. open  2. high    3. low  4. close  5. volume\n",
       "date                                                                \n",
       "2019-08-05 09:31:00   197.99  198.000  196.7500  197.7100  2126171.0\n",
       "2019-08-05 09:32:00   197.71  198.400  197.4521  197.8449   321724.0\n",
       "2019-08-05 09:33:00   197.89  198.260  197.6900  198.1300   254311.0\n",
       "2019-08-05 09:34:00   198.13  198.649  197.8400  198.3394   292661.0\n",
       "2019-08-05 09:35:00   198.36  198.430  198.0200  198.0200   193629.0"
      ]
     },
     "execution_count": 13,
     "metadata": {},
     "output_type": "execute_result"
    }
   ],
   "source": [
    "data.head()"
   ]
  },
  {
   "cell_type": "code",
   "execution_count": 14,
   "metadata": {},
   "outputs": [
    {
     "data": {
      "text/plain": [
       "['_ALPHA_VANTAGE_API_URL',\n",
       " '_ALPHA_VANTAGE_DIGITAL_CURRENCY_LIST',\n",
       " '_ALPHA_VANTAGE_MATH_MAP',\n",
       " '__class__',\n",
       " '__delattr__',\n",
       " '__dict__',\n",
       " '__dir__',\n",
       " '__doc__',\n",
       " '__eq__',\n",
       " '__format__',\n",
       " '__ge__',\n",
       " '__getattribute__',\n",
       " '__gt__',\n",
       " '__hash__',\n",
       " '__init__',\n",
       " '__init_subclass__',\n",
       " '__le__',\n",
       " '__lt__',\n",
       " '__module__',\n",
       " '__ne__',\n",
       " '__new__',\n",
       " '__reduce__',\n",
       " '__reduce_ex__',\n",
       " '__repr__',\n",
       " '__setattr__',\n",
       " '__sizeof__',\n",
       " '__str__',\n",
       " '__subclasshook__',\n",
       " '__weakref__',\n",
       " '_append_type',\n",
       " '_call_api_on_func',\n",
       " '_handle_api_call',\n",
       " '_output_format',\n",
       " '_retry',\n",
       " 'get_batch_stock_quotes',\n",
       " 'get_daily',\n",
       " 'get_daily_adjusted',\n",
       " 'get_intraday',\n",
       " 'get_monthly',\n",
       " 'get_monthly_adjusted',\n",
       " 'get_weekly',\n",
       " 'get_weekly_adjusted',\n",
       " 'indexing_type',\n",
       " 'key',\n",
       " 'map_to_matype',\n",
       " 'output_format',\n",
       " 'proxy',\n",
       " 'retries',\n",
       " 'set_proxy',\n",
       " 'treat_info_as_error']"
      ]
     },
     "execution_count": 14,
     "metadata": {},
     "output_type": "execute_result"
    }
   ],
   "source": [
    "dir(ts)"
   ]
  },
  {
   "cell_type": "code",
   "execution_count": 19,
   "metadata": {},
   "outputs": [
    {
     "data": {
      "text/html": [
       "<div>\n",
       "<style scoped>\n",
       "    .dataframe tbody tr th:only-of-type {\n",
       "        vertical-align: middle;\n",
       "    }\n",
       "\n",
       "    .dataframe tbody tr th {\n",
       "        vertical-align: top;\n",
       "    }\n",
       "\n",
       "    .dataframe thead th {\n",
       "        text-align: right;\n",
       "    }\n",
       "</style>\n",
       "<table border=\"1\" class=\"dataframe\">\n",
       "  <thead>\n",
       "    <tr style=\"text-align: right;\">\n",
       "      <th></th>\n",
       "      <th>1. open</th>\n",
       "      <th>2. high</th>\n",
       "      <th>3. low</th>\n",
       "      <th>4. close</th>\n",
       "      <th>5. volume</th>\n",
       "    </tr>\n",
       "    <tr>\n",
       "      <th>date</th>\n",
       "      <th></th>\n",
       "      <th></th>\n",
       "      <th></th>\n",
       "      <th></th>\n",
       "      <th></th>\n",
       "    </tr>\n",
       "  </thead>\n",
       "  <tbody>\n",
       "    <tr>\n",
       "      <th>1999-08-11</th>\n",
       "      <td>2.0000</td>\n",
       "      <td>2.1339</td>\n",
       "      <td>1.9978</td>\n",
       "      <td>2.1317</td>\n",
       "      <td>212584400.0</td>\n",
       "    </tr>\n",
       "    <tr>\n",
       "      <th>1999-08-12</th>\n",
       "      <td>2.1094</td>\n",
       "      <td>2.1920</td>\n",
       "      <td>2.0938</td>\n",
       "      <td>2.1429</td>\n",
       "      <td>166527200.0</td>\n",
       "    </tr>\n",
       "    <tr>\n",
       "      <th>1999-08-13</th>\n",
       "      <td>2.1652</td>\n",
       "      <td>2.2143</td>\n",
       "      <td>2.1384</td>\n",
       "      <td>2.1451</td>\n",
       "      <td>74608800.0</td>\n",
       "    </tr>\n",
       "    <tr>\n",
       "      <th>1999-08-16</th>\n",
       "      <td>2.1362</td>\n",
       "      <td>2.1674</td>\n",
       "      <td>2.1250</td>\n",
       "      <td>2.1607</td>\n",
       "      <td>69232800.0</td>\n",
       "    </tr>\n",
       "    <tr>\n",
       "      <th>1999-08-17</th>\n",
       "      <td>2.1540</td>\n",
       "      <td>2.1563</td>\n",
       "      <td>2.1049</td>\n",
       "      <td>2.1540</td>\n",
       "      <td>80234000.0</td>\n",
       "    </tr>\n",
       "  </tbody>\n",
       "</table>\n",
       "</div>"
      ],
      "text/plain": [
       "            1. open  2. high  3. low  4. close    5. volume\n",
       "date                                                       \n",
       "1999-08-11   2.0000   2.1339  1.9978    2.1317  212584400.0\n",
       "1999-08-12   2.1094   2.1920  2.0938    2.1429  166527200.0\n",
       "1999-08-13   2.1652   2.2143  2.1384    2.1451   74608800.0\n",
       "1999-08-16   2.1362   2.1674  2.1250    2.1607   69232800.0\n",
       "1999-08-17   2.1540   2.1563  2.1049    2.1540   80234000.0"
      ]
     },
     "execution_count": 19,
     "metadata": {},
     "output_type": "execute_result"
    }
   ],
   "source": [
    "data, meta_data = ts.get_daily(symbol='AAPL',outputsize='full')\n",
    "\n",
    "data.head()"
   ]
  },
  {
   "cell_type": "code",
   "execution_count": 18,
   "metadata": {},
   "outputs": [
    {
     "data": {
      "text/html": [
       "<div>\n",
       "<style scoped>\n",
       "    .dataframe tbody tr th:only-of-type {\n",
       "        vertical-align: middle;\n",
       "    }\n",
       "\n",
       "    .dataframe tbody tr th {\n",
       "        vertical-align: top;\n",
       "    }\n",
       "\n",
       "    .dataframe thead th {\n",
       "        text-align: right;\n",
       "    }\n",
       "</style>\n",
       "<table border=\"1\" class=\"dataframe\">\n",
       "  <thead>\n",
       "    <tr style=\"text-align: right;\">\n",
       "      <th></th>\n",
       "      <th>1. open</th>\n",
       "      <th>2. high</th>\n",
       "      <th>3. low</th>\n",
       "      <th>4. close</th>\n",
       "      <th>5. volume</th>\n",
       "    </tr>\n",
       "    <tr>\n",
       "      <th>date</th>\n",
       "      <th></th>\n",
       "      <th></th>\n",
       "      <th></th>\n",
       "      <th></th>\n",
       "      <th></th>\n",
       "    </tr>\n",
       "  </thead>\n",
       "  <tbody>\n",
       "    <tr>\n",
       "      <th>2019-08-05</th>\n",
       "      <td>197.99</td>\n",
       "      <td>198.65</td>\n",
       "      <td>192.58</td>\n",
       "      <td>193.34</td>\n",
       "      <td>52393000.0</td>\n",
       "    </tr>\n",
       "    <tr>\n",
       "      <th>2019-08-06</th>\n",
       "      <td>196.31</td>\n",
       "      <td>198.07</td>\n",
       "      <td>194.04</td>\n",
       "      <td>197.00</td>\n",
       "      <td>35824800.0</td>\n",
       "    </tr>\n",
       "    <tr>\n",
       "      <th>2019-08-07</th>\n",
       "      <td>195.41</td>\n",
       "      <td>199.56</td>\n",
       "      <td>193.82</td>\n",
       "      <td>199.04</td>\n",
       "      <td>33364400.0</td>\n",
       "    </tr>\n",
       "    <tr>\n",
       "      <th>2019-08-08</th>\n",
       "      <td>200.20</td>\n",
       "      <td>203.53</td>\n",
       "      <td>199.39</td>\n",
       "      <td>203.43</td>\n",
       "      <td>27009500.0</td>\n",
       "    </tr>\n",
       "    <tr>\n",
       "      <th>2019-08-09</th>\n",
       "      <td>201.30</td>\n",
       "      <td>202.76</td>\n",
       "      <td>199.29</td>\n",
       "      <td>200.99</td>\n",
       "      <td>24423000.0</td>\n",
       "    </tr>\n",
       "  </tbody>\n",
       "</table>\n",
       "</div>"
      ],
      "text/plain": [
       "            1. open  2. high  3. low  4. close   5. volume\n",
       "date                                                      \n",
       "2019-08-05   197.99   198.65  192.58    193.34  52393000.0\n",
       "2019-08-06   196.31   198.07  194.04    197.00  35824800.0\n",
       "2019-08-07   195.41   199.56  193.82    199.04  33364400.0\n",
       "2019-08-08   200.20   203.53  199.39    203.43  27009500.0\n",
       "2019-08-09   201.30   202.76  199.29    200.99  24423000.0"
      ]
     },
     "execution_count": 18,
     "metadata": {},
     "output_type": "execute_result"
    }
   ],
   "source": [
    "data.tail()"
   ]
  },
  {
   "cell_type": "markdown",
   "metadata": {},
   "source": [
    "Well that is convenient. Nice clean, compact time series dataframes in pandas. "
   ]
  },
  {
   "cell_type": "code",
   "execution_count": 51,
   "metadata": {},
   "outputs": [],
   "source": [
    "from alpha_vantage.techindicators import TechIndicators\n",
    "\n",
    "ti = TechIndicators(key=config('ALPHA_VANTAGE'), output_format='pandas')"
   ]
  },
  {
   "cell_type": "code",
   "execution_count": 23,
   "metadata": {},
   "outputs": [
    {
     "data": {
      "text/plain": [
       "['_ALPHA_VANTAGE_API_URL',\n",
       " '_ALPHA_VANTAGE_DIGITAL_CURRENCY_LIST',\n",
       " '_ALPHA_VANTAGE_MATH_MAP',\n",
       " '__class__',\n",
       " '__delattr__',\n",
       " '__dict__',\n",
       " '__dir__',\n",
       " '__doc__',\n",
       " '__eq__',\n",
       " '__format__',\n",
       " '__ge__',\n",
       " '__getattribute__',\n",
       " '__gt__',\n",
       " '__hash__',\n",
       " '__init__',\n",
       " '__init_subclass__',\n",
       " '__le__',\n",
       " '__lt__',\n",
       " '__module__',\n",
       " '__ne__',\n",
       " '__new__',\n",
       " '__reduce__',\n",
       " '__reduce_ex__',\n",
       " '__repr__',\n",
       " '__setattr__',\n",
       " '__sizeof__',\n",
       " '__str__',\n",
       " '__subclasshook__',\n",
       " '__weakref__',\n",
       " '_append_type',\n",
       " '_call_api_on_func',\n",
       " '_handle_api_call',\n",
       " '_output_format',\n",
       " '_retry',\n",
       " 'get_ad',\n",
       " 'get_adosc',\n",
       " 'get_adx',\n",
       " 'get_adxr',\n",
       " 'get_apo',\n",
       " 'get_aroon',\n",
       " 'get_aroonosc',\n",
       " 'get_atr',\n",
       " 'get_bbands',\n",
       " 'get_bop',\n",
       " 'get_cci',\n",
       " 'get_cmo',\n",
       " 'get_dema',\n",
       " 'get_dx',\n",
       " 'get_ema',\n",
       " 'get_ht_dcperiod',\n",
       " 'get_ht_dcphase',\n",
       " 'get_ht_phasor',\n",
       " 'get_ht_sine',\n",
       " 'get_ht_trendline',\n",
       " 'get_ht_trendmode',\n",
       " 'get_kama',\n",
       " 'get_macd',\n",
       " 'get_macdext',\n",
       " 'get_mama',\n",
       " 'get_mfi',\n",
       " 'get_midpoint',\n",
       " 'get_midprice',\n",
       " 'get_minus_di',\n",
       " 'get_minus_dm',\n",
       " 'get_mom',\n",
       " 'get_natr',\n",
       " 'get_obv',\n",
       " 'get_plus_di',\n",
       " 'get_plus_dm',\n",
       " 'get_ppo',\n",
       " 'get_roc',\n",
       " 'get_rocr',\n",
       " 'get_rsi',\n",
       " 'get_sar',\n",
       " 'get_sma',\n",
       " 'get_stoch',\n",
       " 'get_stochf',\n",
       " 'get_stochrsi',\n",
       " 'get_t3',\n",
       " 'get_tema',\n",
       " 'get_trange',\n",
       " 'get_trima',\n",
       " 'get_trix',\n",
       " 'get_ultsoc',\n",
       " 'get_willr',\n",
       " 'get_wma',\n",
       " 'indexing_type',\n",
       " 'key',\n",
       " 'map_to_matype',\n",
       " 'output_format',\n",
       " 'proxy',\n",
       " 'retries',\n",
       " 'set_proxy',\n",
       " 'treat_info_as_error']"
      ]
     },
     "execution_count": 23,
     "metadata": {},
     "output_type": "execute_result"
    }
   ],
   "source": [
    "dir(ti)"
   ]
  },
  {
   "cell_type": "code",
   "execution_count": 57,
   "metadata": {},
   "outputs": [
    {
     "data": {
      "text/html": [
       "<div>\n",
       "<style scoped>\n",
       "    .dataframe tbody tr th:only-of-type {\n",
       "        vertical-align: middle;\n",
       "    }\n",
       "\n",
       "    .dataframe tbody tr th {\n",
       "        vertical-align: top;\n",
       "    }\n",
       "\n",
       "    .dataframe thead th {\n",
       "        text-align: right;\n",
       "    }\n",
       "</style>\n",
       "<table border=\"1\" class=\"dataframe\">\n",
       "  <thead>\n",
       "    <tr style=\"text-align: right;\">\n",
       "      <th></th>\n",
       "      <th>SMA</th>\n",
       "    </tr>\n",
       "    <tr>\n",
       "      <th>date</th>\n",
       "      <th></th>\n",
       "    </tr>\n",
       "  </thead>\n",
       "  <tbody>\n",
       "    <tr>\n",
       "      <th>1999-09-08</th>\n",
       "      <td>2.2837</td>\n",
       "    </tr>\n",
       "    <tr>\n",
       "      <th>1999-09-09</th>\n",
       "      <td>2.3121</td>\n",
       "    </tr>\n",
       "    <tr>\n",
       "      <th>1999-09-10</th>\n",
       "      <td>2.3432</td>\n",
       "    </tr>\n",
       "    <tr>\n",
       "      <th>1999-09-13</th>\n",
       "      <td>2.3699</td>\n",
       "    </tr>\n",
       "    <tr>\n",
       "      <th>1999-09-14</th>\n",
       "      <td>2.4008</td>\n",
       "    </tr>\n",
       "  </tbody>\n",
       "</table>\n",
       "</div>"
      ],
      "text/plain": [
       "               SMA\n",
       "date              \n",
       "1999-09-08  2.2837\n",
       "1999-09-09  2.3121\n",
       "1999-09-10  2.3432\n",
       "1999-09-13  2.3699\n",
       "1999-09-14  2.4008"
      ]
     },
     "execution_count": 57,
     "metadata": {},
     "output_type": "execute_result"
    }
   ],
   "source": [
    "sma, extra= ti.get_sma(symbol='AAPL')\n",
    "sma.head()"
   ]
  },
  {
   "cell_type": "code",
   "execution_count": 58,
   "metadata": {},
   "outputs": [
    {
     "data": {
      "text/html": [
       "<div>\n",
       "<style scoped>\n",
       "    .dataframe tbody tr th:only-of-type {\n",
       "        vertical-align: middle;\n",
       "    }\n",
       "\n",
       "    .dataframe tbody tr th {\n",
       "        vertical-align: top;\n",
       "    }\n",
       "\n",
       "    .dataframe thead th {\n",
       "        text-align: right;\n",
       "    }\n",
       "</style>\n",
       "<table border=\"1\" class=\"dataframe\">\n",
       "  <thead>\n",
       "    <tr style=\"text-align: right;\">\n",
       "      <th></th>\n",
       "      <th>SMA</th>\n",
       "    </tr>\n",
       "    <tr>\n",
       "      <th>date</th>\n",
       "      <th></th>\n",
       "    </tr>\n",
       "  </thead>\n",
       "  <tbody>\n",
       "    <tr>\n",
       "      <th>2019-08-05</th>\n",
       "      <td>205.3805</td>\n",
       "    </tr>\n",
       "    <tr>\n",
       "      <th>2019-08-06</th>\n",
       "      <td>205.1685</td>\n",
       "    </tr>\n",
       "    <tr>\n",
       "      <th>2019-08-07</th>\n",
       "      <td>204.9590</td>\n",
       "    </tr>\n",
       "    <tr>\n",
       "      <th>2019-08-08</th>\n",
       "      <td>205.0430</td>\n",
       "    </tr>\n",
       "    <tr>\n",
       "      <th>2019-08-09</th>\n",
       "      <td>204.9275</td>\n",
       "    </tr>\n",
       "  </tbody>\n",
       "</table>\n",
       "</div>"
      ],
      "text/plain": [
       "                 SMA\n",
       "date                \n",
       "2019-08-05  205.3805\n",
       "2019-08-06  205.1685\n",
       "2019-08-07  204.9590\n",
       "2019-08-08  205.0430\n",
       "2019-08-09  204.9275"
      ]
     },
     "execution_count": 58,
     "metadata": {},
     "output_type": "execute_result"
    }
   ],
   "source": [
    "sma.tail()"
   ]
  },
  {
   "cell_type": "code",
   "execution_count": 56,
   "metadata": {},
   "outputs": [
    {
     "data": {
      "text/plain": [
       "{'1: Symbol': 'AAPL',\n",
       " '2: Indicator': 'Simple Moving Average (SMA)',\n",
       " '3: Last Refreshed': '2019-08-09',\n",
       " '4: Interval': 'daily',\n",
       " '5: Time Period': 20,\n",
       " '6: Series Type': 'close',\n",
       " '7: Time Zone': 'US/Eastern'}"
      ]
     },
     "execution_count": 56,
     "metadata": {},
     "output_type": "execute_result"
    }
   ],
   "source": [
    "extra"
   ]
  },
  {
   "cell_type": "markdown",
   "metadata": {},
   "source": [
    "The API documentation is remarkably easy to use. Therefore it will make up the foundation of the data aggregation algorithm."
   ]
  }
 ],
 "metadata": {
  "kernelspec": {
   "display_name": "Python 3",
   "language": "python",
   "name": "python3"
  },
  "language_info": {
   "codemirror_mode": {
    "name": "ipython",
    "version": 3
   },
   "file_extension": ".py",
   "mimetype": "text/x-python",
   "name": "python",
   "nbconvert_exporter": "python",
   "pygments_lexer": "ipython3",
   "version": "3.7.3"
  }
 },
 "nbformat": 4,
 "nbformat_minor": 4
}
